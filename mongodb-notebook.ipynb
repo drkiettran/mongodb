{
 "cells": [
  {
   "cell_type": "markdown",
   "metadata": {},
   "source": [
    "# Example of programming MongoDB with Python\n",
    "This notebook contains simple coding example for MongoDB with Python 3.x\n",
    "\n",
    "## Prepare connection"
   ]
  },
  {
   "cell_type": "code",
   "execution_count": 1,
   "metadata": {},
   "outputs": [],
   "source": [
    "from pymongo import MongoClient\n",
    "#include pprint for readabillity of the \n",
    "from pprint import pprint  # pretty print\n",
    "from random import randint\n",
    "\n",
    "#change the MongoClient connection string to your MongoDB database instance\n",
    "client = MongoClient(port=27017)"
   ]
  },
  {
   "cell_type": "markdown",
   "metadata": {},
   "source": [
    "##"
   ]
  },
  {
   "cell_type": "code",
   "execution_count": 2,
   "metadata": {},
   "outputs": [
    {
     "name": "stdout",
     "output_type": "stream",
     "text": [
      "finished creating 500 business reviews\n"
     ]
    }
   ],
   "source": [
    "db=client.business\n",
    "#Step 2: Create sample data\n",
    "names = ['Kitchen','Animal','State', 'Tastey', 'Big','City','Fish', 'Pizza','Goat', 'Salty','Sandwich','Lazy', 'Fun']\n",
    "company_type = ['LLC','Inc','Company','Corporation']\n",
    "company_cuisine = ['Pizza', 'Bar Food', 'Fast Food', 'Italian', 'Mexican', 'American', 'Sushi Bar', 'Vegetarian']\n",
    "for x in range(1, 501):\n",
    "    business = {\n",
    "        'name' : names[randint(0, (len(names)-1))] + ' ' + names[randint(0, (len(names)-1))]  + ' ' + company_type[randint(0, (len(company_type)-1))],\n",
    "        'rating' : randint(1, 5),\n",
    "        'cuisine' : company_cuisine[randint(0, (len(company_cuisine)-1))] \n",
    "    }\n",
    "    #Step 3: Insert business object directly into MongoDB via isnert_one\n",
    "    result=db.reviews.insert_one(business)\n",
    "    #Step 4: Print to the console the ObjectID of the new document\n",
    "    #     print('Created {0} of 500 as {1}'.format(x,result.inserted_id))\n",
    "    \n",
    "#Step 5: Tell us that you are done\n",
    "print('finished creating 500 business reviews')"
   ]
  },
  {
   "cell_type": "code",
   "execution_count": 5,
   "metadata": {},
   "outputs": [
    {
     "name": "stdout",
     "output_type": "stream",
     "text": [
      "{'_id': ObjectId('5e71732f788d46b6b369a5a2'), 'name': 'Fish City Inc', 'rating': 5, 'cuisine': 'Pizza'}\n",
      "{'_id': ObjectId('5e71732f788d46b6b369a5a2'),\n",
      " 'cuisine': 'Pizza',\n",
      " 'name': 'Fish City Inc',\n",
      " 'rating': 5}\n"
     ]
    }
   ],
   "source": [
    "fivestar = db.reviews.find_one({'rating': 5})\n",
    "print(fivestar)\n",
    "pprint(fivestar)"
   ]
  },
  {
   "cell_type": "code",
   "execution_count": 8,
   "metadata": {},
   "outputs": [
    {
     "name": "stdout",
     "output_type": "stream",
     "text": [
      "84 records found\n"
     ]
    }
   ],
   "source": [
    "fivestars = db.reviews.find({'rating': 5})\n",
    "count = 0\n",
    "for fivestar in fivestars:\n",
    "    # print(count, '. ', fivestar)\n",
    "    count += 1\n",
    "print('{} records found'.format(count))"
   ]
  },
  {
   "cell_type": "code",
   "execution_count": 9,
   "metadata": {},
   "outputs": [
    {
     "name": "stderr",
     "output_type": "stream",
     "text": [
      "/home/student/.local/lib/python3.6/site-packages/ipykernel_launcher.py:1: DeprecationWarning: count is deprecated. Use Collection.count_documents instead.\n",
      "  \"\"\"Entry point for launching an IPython kernel.\n"
     ]
    },
    {
     "data": {
      "text/plain": [
       "84"
      ]
     },
     "execution_count": 9,
     "metadata": {},
     "output_type": "execute_result"
    }
   ],
   "source": [
    "db.reviews.find({'rating': 5}).count()"
   ]
  },
  {
   "cell_type": "code",
   "execution_count": null,
   "metadata": {},
   "outputs": [],
   "source": []
  }
 ],
 "metadata": {
  "kernelspec": {
   "display_name": "Python 3",
   "language": "python",
   "name": "python3"
  },
  "language_info": {
   "codemirror_mode": {
    "name": "ipython",
    "version": 3
   },
   "file_extension": ".py",
   "mimetype": "text/x-python",
   "name": "python",
   "nbconvert_exporter": "python",
   "pygments_lexer": "ipython3",
   "version": "3.6.9"
  }
 },
 "nbformat": 4,
 "nbformat_minor": 4
}
